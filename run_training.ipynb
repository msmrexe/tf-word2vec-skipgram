{
 "cells": [
  {
   "cell_type": "markdown",
   "metadata": {},
   "source": [
    "# Word2Vec Skip-Gram Training\n",
    "\n",
    "This notebook runs the main Python script (`src/main.py`) to train the Word2Vec model. All configuration is handled by the script via command-line arguments."
   ]
  },
  {
   "cell_type": "markdown",
   "metadata": {},
   "source": [
    "### 1. Install Dependencies\n",
    "\n",
    "First, we install all the required packages from `requirements.txt`."
   ]
  },
  {
   "cell_type": "code",
   "execution_count": null,
   "metadata": {},
   "outputs": [],
   "source": [
    "!pip install -r requirements.txt"
   ]
  },
  {
   "cell_type": "markdown",
   "metadata": {},
   "source": [
    "### 2. Run Training Script\n",
    "\n",
    "Now, we execute the main pipeline. This will:\n",
    "1.  Download the data.\n",
    "2.  Preprocess the text.\n",
    "3.  Build the `tf.data` pipelines.\n",
    "4.  Train the model for 5 epochs (as specified by `--epochs 5`).\n",
    "5.  Save checkpoints in `./checkpoints/`.\n",
    "6.  Save logs to `./logs/training.log`.\n",
    "7.  Save the final embeddings to `./data/vecs.tsv` and `./data/meta.tsv`.\n",
    "\n",
    "You can change the arguments (e.g., `--epochs 10`, `--embedding_dim 150`) as needed."
   ]
  },
  {
   "cell_type": "code",
   "execution_count": null,
   "metadata": {},
   "outputs": [],
   "source": [
    "!python src/main.py --epochs 5 --embedding_dim 128 --batch_size 2048"
   ]
  },
  {
   "cell_type": "markdown",
   "metadata": {},
   "source": [
    "### 3. Check Results\n",
    "\n",
    "After the script finishes, we can check the contents of the `logs` and `data` directories to confirm the output files were created."
   ]
  },
  {
   "cell_type": "code",
   "execution_count": null,
   "metadata": {},
   "outputs": [],
   "source": [
    "print(\"--- Training Log (last 20 lines) ---\")\n",
    "!tail -n 20 logs/training.log\n",
    "\n",
    "print(\"\\n--- Output Embedding Files ---\")\n",
    "!ls -lh data/"
   ]
  },
  {
   "cell_type": "markdown",
   "metadata": {},
   "source": [
    "### 4. Visualize Embeddings\n",
    "\n",
    "To visualize the results:\n",
    "1.  Go to [http://projector.tensorflow.org/](http://projector.tensorflow.org/).\n",
    "2.  Click on \"Load\".\n",
    "3.  Upload the `vecs.tsv` file (from the `data/` folder) for \"Choose tensor file\".\n",
    "4.  Upload the `meta.tsv` file (from the `data/` folder) for \"Choose metadata file\"."
   ]
  }
 ],
 "metadata": {
  "kernelspec": {
   "display_name": "Python 3",
   "language": "python",
   "name": "python3"
  },
  "language_info": {
   "name": "python",
   "version": "3.10.12"
  }
 },
 "nbformat": 4,
 "nbformat_minor": 2
}